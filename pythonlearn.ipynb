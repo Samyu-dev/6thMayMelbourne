{
  "nbformat": 4,
  "nbformat_minor": 0,
  "metadata": {
    "colab": {
      "name": "pythonlearn.ipynb",
      "provenance": [],
      "collapsed_sections": [],
      "authorship_tag": "ABX9TyMSG0rvsyFVmwsJjkL4e3Wq",
      "include_colab_link": true
    },
    "kernelspec": {
      "name": "python3",
      "display_name": "Python 3"
    },
    "language_info": {
      "name": "python"
    }
  },
  "cells": [
    {
      "cell_type": "markdown",
      "metadata": {
        "id": "view-in-github",
        "colab_type": "text"
      },
      "source": [
        "<a href=\"https://colab.research.google.com/github/Samyu-dev/6thMayMelbourne/blob/main/pythonlearn.ipynb\" target=\"_parent\"><img src=\"https://colab.research.google.com/assets/colab-badge.svg\" alt=\"Open In Colab\"/></a>"
      ]
    },
    {
      "cell_type": "code",
      "metadata": {
        "colab": {
          "base_uri": "https://localhost:8080/"
        },
        "id": "Z2mk94sZ56S7",
        "outputId": "f6c23566-de18-49cf-82e9-976b8349a975"
      },
      "source": [
        "Name = input(\"Enter your Name:\")\n",
        "print(\"Hi \"+ Name +\"!\")"
      ],
      "execution_count": 83,
      "outputs": [
        {
          "output_type": "stream",
          "name": "stdout",
          "text": [
            "Enter your Name:Sruthi\n",
            "Hi Sruthi!\n"
          ]
        }
      ]
    },
    {
      "cell_type": "code",
      "metadata": {
        "colab": {
          "base_uri": "https://localhost:8080/"
        },
        "id": "Gaaj_jMf65pG",
        "outputId": "6dbad1f3-1e13-46f4-e42a-937bbc311848"
      },
      "source": [
        "A = float(input(\"Enter A:\"))\n",
        "B = float(input(\"Enter B:\"))\n",
        "print(\"A+B=\",float(A+B))\n",
        "print(\"A-B=\",float(A-B))\n",
        "print(\"AxB=\",float(A*B))\n",
        "print(\"A/B=\",float(A/B))\n",
        "\n"
      ],
      "execution_count": 87,
      "outputs": [
        {
          "output_type": "stream",
          "name": "stdout",
          "text": [
            "Enter A:2.5\n",
            "Enter B:3.5\n",
            "A+B= 6.0\n",
            "A-B= -1.0\n",
            "AxB= 8.75\n",
            "A/B= 0.7142857142857143\n"
          ]
        }
      ]
    },
    {
      "cell_type": "code",
      "metadata": {
        "colab": {
          "base_uri": "https://localhost:8080/"
        },
        "id": "TD28hvcd9F8E",
        "outputId": "d825c663-6eb7-409a-9f6c-5356884cf815"
      },
      "source": [
        "A = int(input(\"Enter A:\"))\n",
        "B = int(input(\"Enter B:\"))\n",
        "print(\"A+B=\",int(A+B))\n",
        "print(\"A-B=\",int(A-B))\n",
        "print(\"AxB=\",int(A*B))\n",
        "print(\"A/B=\",int(A/B))\n"
      ],
      "execution_count": 89,
      "outputs": [
        {
          "output_type": "stream",
          "name": "stdout",
          "text": [
            "Enter A:2\n",
            "Enter B:3\n",
            "A+B= 5\n",
            "A-B= -1\n",
            "AxB= 6\n",
            "A/B= 0\n"
          ]
        }
      ]
    },
    {
      "cell_type": "code",
      "metadata": {
        "id": "urhcQ-eD9a7l"
      },
      "source": [
        "def remove_duplicates(lista):\n",
        "  lista2 = []\n",
        "  for item in lista:\n",
        "    if item not in lista2: #if item is not in lista already\n",
        "       lista2.append(item)\n",
        "  return lista2\n",
        "\n",
        "  \n",
        "  print(remove_duplicate([1,2,3,4,3]))"
      ],
      "execution_count": 6,
      "outputs": []
    },
    {
      "cell_type": "code",
      "metadata": {
        "colab": {
          "base_uri": "https://localhost:8080/"
        },
        "id": "Oe4UAMOnc1ai",
        "outputId": "37576c54-22d1-4df7-dfac-c109dbc60224"
      },
      "source": [
        "print(list(set([1,2,3,4,3])))\n"
      ],
      "execution_count": 5,
      "outputs": [
        {
          "output_type": "stream",
          "name": "stdout",
          "text": [
            "[1, 2, 3, 4]\n"
          ]
        }
      ]
    },
    {
      "cell_type": "code",
      "metadata": {
        "colab": {
          "base_uri": "https://localhost:8080/"
        },
        "id": "EWMUWr5udMTp",
        "outputId": "faa8a458-d77f-4683-96dc-9e2ac59ed163"
      },
      "source": [
        "# Import the modules\n",
        "import sys\n",
        "import random\n",
        "\n",
        "ans = True\n",
        "\n",
        "while ans:\n",
        "    question = input(\"Ask the magic 8 ball a question: (press enter to quit) \")\n",
        "    \n",
        "    answers = random.randint(1,8)\n",
        "    \n",
        "    if question == \"\":\n",
        "        sys.exit()\n",
        "    \n",
        "    elif answers == 1:\n",
        "        print(\"It is certain\")\n",
        "    \n",
        "    elif answers == 2:\n",
        "        print(\"Outlook good\")\n",
        "    \n",
        "    elif answers == 3:\n",
        "        print(\"You may rely on it\")\n",
        "    \n",
        "    elif answers == 4:\n",
        "        print(\"Ask again later\")\n",
        "    \n",
        "    elif answers == 5:\n",
        "        print(\"Concentrate and ask again\")\n",
        "    \n",
        "    elif answers == 6:\n",
        "        print(\"Reply hazy, try again\")\n",
        "    \n",
        "    elif answers == 7:\n",
        "        print(\"My reply is no\")\n",
        "    \n",
        "    elif answers == 8:\n",
        "        print(\"My sources say no\")"
      ],
      "execution_count": null,
      "outputs": [
        {
          "output_type": "stream",
          "name": "stdout",
          "text": [
            "Ask the magic 8 ball a question: (press enter to quit) 5\n",
            "Reply hazy, try again\n",
            "Ask the magic 8 ball a question: (press enter to quit) 7\n",
            "Outlook good\n",
            "Ask the magic 8 ball a question: (press enter to quit) cgyth\n",
            "Reply hazy, try again\n",
            "Ask the magic 8 ball a question: (press enter to quit) ghtvh\n",
            "You may rely on it\n"
          ]
        }
      ]
    },
    {
      "cell_type": "code",
      "metadata": {
        "colab": {
          "base_uri": "https://localhost:8080/"
        },
        "id": "8UoqKYephYKI",
        "outputId": "86b8994b-dec6-413c-c579-daf4bf6f15f1"
      },
      "source": [
        "#Take the users input\n",
        "words = input(\"Enter some text to convert to pig latin:\")\n",
        "print(\"You entered:\", words)\n",
        "#break apart words into a list\n",
        "words = words.split(' ')\n",
        "print(\"You entered:\", words)\n",
        "#Now words is a list and can be manipulated\n",
        "for i in words:\n",
        "  if len(i)>=3: #I only want to translate words with more than 3 characters\n",
        "    a = 'a'\n",
        "    k= \"%say\" % a\n",
        "    print(k)\n",
        "    j = \"%say\" % (i[0])\n",
        "  \n",
        "    print()\n",
        "    print(\"replace first letter to say:\",j)\n",
        "    i = i[1:]\n",
        "    print(\"remove first letter:\", i)\n",
        "    print(\"Pig latin:\",i+j)\n",
        "  else:\n",
        "    pass\n",
        "\n",
        "\n"
      ],
      "execution_count": 47,
      "outputs": [
        {
          "output_type": "stream",
          "name": "stdout",
          "text": [
            "Enter some text to convert to pig latin:name\n",
            "You entered: name\n",
            "You entered: ['name']\n",
            "aay\n",
            "\n",
            "replace first letter to say: nay\n",
            "remove first letter: ame\n",
            "Pig latin: amenay\n"
          ]
        }
      ]
    },
    {
      "cell_type": "code",
      "metadata": {
        "colab": {
          "base_uri": "https://localhost:8080/"
        },
        "id": "lpNdYDb-r0FL",
        "outputId": "dc177aba-f6d7-421f-f438-5787b636f7cc"
      },
      "source": [
        "#32°F − 32) × 5/9 = 0°C Convert Farenheit to Celcius\n",
        "F = float(input(\"Enter temperature in Farenheit:\"))\n",
        "print(\"You have entered:\", F,\"Deg F\")\n",
        "\n",
        "# Apply formula\n",
        "C = ((F-32) * (5/9))\n",
        "print(\"Temp in Celcius:\", float(C))\n"
      ],
      "execution_count": 67,
      "outputs": [
        {
          "output_type": "stream",
          "name": "stdout",
          "text": [
            "Enter temperature in Farenheit:98\n",
            "You have entered: 98.0 Deg F\n",
            "Temp in Celcius: 36.66666666666667\n"
          ]
        }
      ]
    },
    {
      "cell_type": "code",
      "metadata": {
        "colab": {
          "base_uri": "https://localhost:8080/"
        },
        "id": "SXHql-tgusiI",
        "outputId": "de30bf29-7a37-468d-8d8a-90c38d5451e4"
      },
      "source": [
        "#100°C × 9/5) + 32 = 212°F Convert Celcius to Farenheit \n",
        "C = float(input(\"Enter temperature in Celcius:\"))\n",
        "print(\"You have entered:\", C,\"Deg C\")\n",
        "\n",
        "# Apply formula\n",
        "F = (C * 9/5) + 32\n",
        "print(\"Temp in Farenheit:\", float(F))"
      ],
      "execution_count": 70,
      "outputs": [
        {
          "output_type": "stream",
          "name": "stdout",
          "text": [
            "Enter temperature in Celcius:-10\n",
            "You have entered: -10.0 Deg C\n",
            "Temp in Farenheit: 14.0\n"
          ]
        }
      ]
    },
    {
      "cell_type": "code",
      "metadata": {
        "colab": {
          "base_uri": "https://localhost:8080/"
        },
        "id": "ujmUwGyowjWe",
        "outputId": "d4ba5a7b-31c7-4e24-bf32-99d5e55fb0f5"
      },
      "source": [
        "kmh = int(input(\"Enter km/h: \"))\n",
        "print(\"You have entered:\",kmh,\"km/h\")\n",
        "mph =  0.6214 * kmh\n",
        "print(\"Speed:\", kmh, \"KM/H = \", mph, \"m/h\")"
      ],
      "execution_count": 72,
      "outputs": [
        {
          "output_type": "stream",
          "name": "stdout",
          "text": [
            "Enter km/h: 100\n",
            "You have entered: 100 km/h\n",
            "Speed: 100 KM/H =  62.13999999999999 m/h\n"
          ]
        }
      ]
    },
    {
      "cell_type": "code",
      "metadata": {
        "colab": {
          "base_uri": "https://localhost:8080/"
        },
        "id": "DnFZy908za7P",
        "outputId": "171bc0a3-3171-4008-ed11-fba11d750bad"
      },
      "source": [
        "# Python code to demonstrate the working of gcd()\n",
        "# importing \"math\" for mathematical operations\n",
        "import math\n",
        "  \n",
        "# prints 12\n",
        "A = int(input(\"Enter A:\"))\n",
        "B = int(input(\"Enter B:\"))\n",
        "\n",
        "print(\"The gcd of A and B is : \",math.gcd(A, B) )#1Method direct\n",
        "print(\"The gcd of and B is : \",end=\"\" )#2Method end=\"\" returns next step\n",
        "print(math.gcd(A, B))"
      ],
      "execution_count": 5,
      "outputs": [
        {
          "output_type": "stream",
          "name": "stdout",
          "text": [
            "Enter A:12\n",
            "Enter B:15\n",
            "The gcd of A and B is :  3\n",
            "The gcd of and B is : 3\n"
          ]
        }
      ]
    },
    {
      "cell_type": "code",
      "metadata": {
        "colab": {
          "base_uri": "https://localhost:8080/",
          "height": 374
        },
        "id": "ZA9UX5xkGVmP",
        "outputId": "253cddc1-e3bb-4486-9f3f-75b43288c9d9"
      },
      "source": [
        "import fnmatch\n",
        "import os\n",
        " \n",
        "rootPath = '/'\n",
        "pattern = '*.mp3'\n",
        " \n",
        "for root, dirs, files in os.walk(rootPath):\n",
        "    for filename in fnmatch.filter(files, pattern):\n",
        "        print( os.path.join(root, filename))"
      ],
      "execution_count": 6,
      "outputs": [
        {
          "output_type": "error",
          "ename": "KeyboardInterrupt",
          "evalue": "ignored",
          "traceback": [
            "\u001b[0;31m---------------------------------------------------------------------------\u001b[0m",
            "\u001b[0;31mKeyboardInterrupt\u001b[0m                         Traceback (most recent call last)",
            "\u001b[0;32m<ipython-input-6-a6f542da1538>\u001b[0m in \u001b[0;36m<module>\u001b[0;34m()\u001b[0m\n\u001b[1;32m      5\u001b[0m \u001b[0mpattern\u001b[0m \u001b[0;34m=\u001b[0m \u001b[0;34m'*.mp3'\u001b[0m\u001b[0;34m\u001b[0m\u001b[0;34m\u001b[0m\u001b[0m\n\u001b[1;32m      6\u001b[0m \u001b[0;34m\u001b[0m\u001b[0m\n\u001b[0;32m----> 7\u001b[0;31m \u001b[0;32mfor\u001b[0m \u001b[0mroot\u001b[0m\u001b[0;34m,\u001b[0m \u001b[0mdirs\u001b[0m\u001b[0;34m,\u001b[0m \u001b[0mfiles\u001b[0m \u001b[0;32min\u001b[0m \u001b[0mos\u001b[0m\u001b[0;34m.\u001b[0m\u001b[0mwalk\u001b[0m\u001b[0;34m(\u001b[0m\u001b[0mrootPath\u001b[0m\u001b[0;34m)\u001b[0m\u001b[0;34m:\u001b[0m\u001b[0;34m\u001b[0m\u001b[0;34m\u001b[0m\u001b[0m\n\u001b[0m\u001b[1;32m      8\u001b[0m     \u001b[0;32mfor\u001b[0m \u001b[0mfilename\u001b[0m \u001b[0;32min\u001b[0m \u001b[0mfnmatch\u001b[0m\u001b[0;34m.\u001b[0m\u001b[0mfilter\u001b[0m\u001b[0;34m(\u001b[0m\u001b[0mfiles\u001b[0m\u001b[0;34m,\u001b[0m \u001b[0mpattern\u001b[0m\u001b[0;34m)\u001b[0m\u001b[0;34m:\u001b[0m\u001b[0;34m\u001b[0m\u001b[0;34m\u001b[0m\u001b[0m\n\u001b[1;32m      9\u001b[0m         \u001b[0mprint\u001b[0m\u001b[0;34m(\u001b[0m \u001b[0mos\u001b[0m\u001b[0;34m.\u001b[0m\u001b[0mpath\u001b[0m\u001b[0;34m.\u001b[0m\u001b[0mjoin\u001b[0m\u001b[0;34m(\u001b[0m\u001b[0mroot\u001b[0m\u001b[0;34m,\u001b[0m \u001b[0mfilename\u001b[0m\u001b[0;34m)\u001b[0m\u001b[0;34m)\u001b[0m\u001b[0;34m\u001b[0m\u001b[0;34m\u001b[0m\u001b[0m\n",
            "\u001b[0;32m/usr/lib/python3.7/os.py\u001b[0m in \u001b[0;36mwalk\u001b[0;34m(top, topdown, onerror, followlinks)\u001b[0m\n\u001b[1;32m    411\u001b[0m             \u001b[0;31m# above.\u001b[0m\u001b[0;34m\u001b[0m\u001b[0;34m\u001b[0m\u001b[0;34m\u001b[0m\u001b[0m\n\u001b[1;32m    412\u001b[0m             \u001b[0;32mif\u001b[0m \u001b[0mfollowlinks\u001b[0m \u001b[0;32mor\u001b[0m \u001b[0;32mnot\u001b[0m \u001b[0mislink\u001b[0m\u001b[0;34m(\u001b[0m\u001b[0mnew_path\u001b[0m\u001b[0;34m)\u001b[0m\u001b[0;34m:\u001b[0m\u001b[0;34m\u001b[0m\u001b[0;34m\u001b[0m\u001b[0m\n\u001b[0;32m--> 413\u001b[0;31m                 \u001b[0;32myield\u001b[0m \u001b[0;32mfrom\u001b[0m \u001b[0mwalk\u001b[0m\u001b[0;34m(\u001b[0m\u001b[0mnew_path\u001b[0m\u001b[0;34m,\u001b[0m \u001b[0mtopdown\u001b[0m\u001b[0;34m,\u001b[0m \u001b[0monerror\u001b[0m\u001b[0;34m,\u001b[0m \u001b[0mfollowlinks\u001b[0m\u001b[0;34m)\u001b[0m\u001b[0;34m\u001b[0m\u001b[0;34m\u001b[0m\u001b[0m\n\u001b[0m\u001b[1;32m    414\u001b[0m     \u001b[0;32melse\u001b[0m\u001b[0;34m:\u001b[0m\u001b[0;34m\u001b[0m\u001b[0;34m\u001b[0m\u001b[0m\n\u001b[1;32m    415\u001b[0m         \u001b[0;31m# Recurse into sub-directories\u001b[0m\u001b[0;34m\u001b[0m\u001b[0;34m\u001b[0m\u001b[0;34m\u001b[0m\u001b[0m\n",
            "\u001b[0;32m/usr/lib/python3.7/os.py\u001b[0m in \u001b[0;36mwalk\u001b[0;34m(top, topdown, onerror, followlinks)\u001b[0m\n\u001b[1;32m    411\u001b[0m             \u001b[0;31m# above.\u001b[0m\u001b[0;34m\u001b[0m\u001b[0;34m\u001b[0m\u001b[0;34m\u001b[0m\u001b[0m\n\u001b[1;32m    412\u001b[0m             \u001b[0;32mif\u001b[0m \u001b[0mfollowlinks\u001b[0m \u001b[0;32mor\u001b[0m \u001b[0;32mnot\u001b[0m \u001b[0mislink\u001b[0m\u001b[0;34m(\u001b[0m\u001b[0mnew_path\u001b[0m\u001b[0;34m)\u001b[0m\u001b[0;34m:\u001b[0m\u001b[0;34m\u001b[0m\u001b[0;34m\u001b[0m\u001b[0m\n\u001b[0;32m--> 413\u001b[0;31m                 \u001b[0;32myield\u001b[0m \u001b[0;32mfrom\u001b[0m \u001b[0mwalk\u001b[0m\u001b[0;34m(\u001b[0m\u001b[0mnew_path\u001b[0m\u001b[0;34m,\u001b[0m \u001b[0mtopdown\u001b[0m\u001b[0;34m,\u001b[0m \u001b[0monerror\u001b[0m\u001b[0;34m,\u001b[0m \u001b[0mfollowlinks\u001b[0m\u001b[0;34m)\u001b[0m\u001b[0;34m\u001b[0m\u001b[0;34m\u001b[0m\u001b[0m\n\u001b[0m\u001b[1;32m    414\u001b[0m     \u001b[0;32melse\u001b[0m\u001b[0;34m:\u001b[0m\u001b[0;34m\u001b[0m\u001b[0;34m\u001b[0m\u001b[0m\n\u001b[1;32m    415\u001b[0m         \u001b[0;31m# Recurse into sub-directories\u001b[0m\u001b[0;34m\u001b[0m\u001b[0;34m\u001b[0m\u001b[0;34m\u001b[0m\u001b[0m\n",
            "\u001b[0;32m/usr/lib/python3.7/os.py\u001b[0m in \u001b[0;36mwalk\u001b[0;34m(top, topdown, onerror, followlinks)\u001b[0m\n\u001b[1;32m    411\u001b[0m             \u001b[0;31m# above.\u001b[0m\u001b[0;34m\u001b[0m\u001b[0;34m\u001b[0m\u001b[0;34m\u001b[0m\u001b[0m\n\u001b[1;32m    412\u001b[0m             \u001b[0;32mif\u001b[0m \u001b[0mfollowlinks\u001b[0m \u001b[0;32mor\u001b[0m \u001b[0;32mnot\u001b[0m \u001b[0mislink\u001b[0m\u001b[0;34m(\u001b[0m\u001b[0mnew_path\u001b[0m\u001b[0;34m)\u001b[0m\u001b[0;34m:\u001b[0m\u001b[0;34m\u001b[0m\u001b[0;34m\u001b[0m\u001b[0m\n\u001b[0;32m--> 413\u001b[0;31m                 \u001b[0;32myield\u001b[0m \u001b[0;32mfrom\u001b[0m \u001b[0mwalk\u001b[0m\u001b[0;34m(\u001b[0m\u001b[0mnew_path\u001b[0m\u001b[0;34m,\u001b[0m \u001b[0mtopdown\u001b[0m\u001b[0;34m,\u001b[0m \u001b[0monerror\u001b[0m\u001b[0;34m,\u001b[0m \u001b[0mfollowlinks\u001b[0m\u001b[0;34m)\u001b[0m\u001b[0;34m\u001b[0m\u001b[0;34m\u001b[0m\u001b[0m\n\u001b[0m\u001b[1;32m    414\u001b[0m     \u001b[0;32melse\u001b[0m\u001b[0;34m:\u001b[0m\u001b[0;34m\u001b[0m\u001b[0;34m\u001b[0m\u001b[0m\n\u001b[1;32m    415\u001b[0m         \u001b[0;31m# Recurse into sub-directories\u001b[0m\u001b[0;34m\u001b[0m\u001b[0;34m\u001b[0m\u001b[0;34m\u001b[0m\u001b[0m\n",
            "\u001b[0;32m/usr/lib/python3.7/os.py\u001b[0m in \u001b[0;36mwalk\u001b[0;34m(top, topdown, onerror, followlinks)\u001b[0m\n\u001b[1;32m    411\u001b[0m             \u001b[0;31m# above.\u001b[0m\u001b[0;34m\u001b[0m\u001b[0;34m\u001b[0m\u001b[0;34m\u001b[0m\u001b[0m\n\u001b[1;32m    412\u001b[0m             \u001b[0;32mif\u001b[0m \u001b[0mfollowlinks\u001b[0m \u001b[0;32mor\u001b[0m \u001b[0;32mnot\u001b[0m \u001b[0mislink\u001b[0m\u001b[0;34m(\u001b[0m\u001b[0mnew_path\u001b[0m\u001b[0;34m)\u001b[0m\u001b[0;34m:\u001b[0m\u001b[0;34m\u001b[0m\u001b[0;34m\u001b[0m\u001b[0m\n\u001b[0;32m--> 413\u001b[0;31m                 \u001b[0;32myield\u001b[0m \u001b[0;32mfrom\u001b[0m \u001b[0mwalk\u001b[0m\u001b[0;34m(\u001b[0m\u001b[0mnew_path\u001b[0m\u001b[0;34m,\u001b[0m \u001b[0mtopdown\u001b[0m\u001b[0;34m,\u001b[0m \u001b[0monerror\u001b[0m\u001b[0;34m,\u001b[0m \u001b[0mfollowlinks\u001b[0m\u001b[0;34m)\u001b[0m\u001b[0;34m\u001b[0m\u001b[0;34m\u001b[0m\u001b[0m\n\u001b[0m\u001b[1;32m    414\u001b[0m     \u001b[0;32melse\u001b[0m\u001b[0;34m:\u001b[0m\u001b[0;34m\u001b[0m\u001b[0;34m\u001b[0m\u001b[0m\n\u001b[1;32m    415\u001b[0m         \u001b[0;31m# Recurse into sub-directories\u001b[0m\u001b[0;34m\u001b[0m\u001b[0;34m\u001b[0m\u001b[0;34m\u001b[0m\u001b[0m\n",
            "\u001b[0;32m/usr/lib/python3.7/os.py\u001b[0m in \u001b[0;36mwalk\u001b[0;34m(top, topdown, onerror, followlinks)\u001b[0m\n\u001b[1;32m    411\u001b[0m             \u001b[0;31m# above.\u001b[0m\u001b[0;34m\u001b[0m\u001b[0;34m\u001b[0m\u001b[0;34m\u001b[0m\u001b[0m\n\u001b[1;32m    412\u001b[0m             \u001b[0;32mif\u001b[0m \u001b[0mfollowlinks\u001b[0m \u001b[0;32mor\u001b[0m \u001b[0;32mnot\u001b[0m \u001b[0mislink\u001b[0m\u001b[0;34m(\u001b[0m\u001b[0mnew_path\u001b[0m\u001b[0;34m)\u001b[0m\u001b[0;34m:\u001b[0m\u001b[0;34m\u001b[0m\u001b[0;34m\u001b[0m\u001b[0m\n\u001b[0;32m--> 413\u001b[0;31m                 \u001b[0;32myield\u001b[0m \u001b[0;32mfrom\u001b[0m \u001b[0mwalk\u001b[0m\u001b[0;34m(\u001b[0m\u001b[0mnew_path\u001b[0m\u001b[0;34m,\u001b[0m \u001b[0mtopdown\u001b[0m\u001b[0;34m,\u001b[0m \u001b[0monerror\u001b[0m\u001b[0;34m,\u001b[0m \u001b[0mfollowlinks\u001b[0m\u001b[0;34m)\u001b[0m\u001b[0;34m\u001b[0m\u001b[0;34m\u001b[0m\u001b[0m\n\u001b[0m\u001b[1;32m    414\u001b[0m     \u001b[0;32melse\u001b[0m\u001b[0;34m:\u001b[0m\u001b[0;34m\u001b[0m\u001b[0;34m\u001b[0m\u001b[0m\n\u001b[1;32m    415\u001b[0m         \u001b[0;31m# Recurse into sub-directories\u001b[0m\u001b[0;34m\u001b[0m\u001b[0;34m\u001b[0m\u001b[0;34m\u001b[0m\u001b[0m\n",
            "\u001b[0;32m/usr/lib/python3.7/os.py\u001b[0m in \u001b[0;36mwalk\u001b[0;34m(top, topdown, onerror, followlinks)\u001b[0m\n\u001b[1;32m    411\u001b[0m             \u001b[0;31m# above.\u001b[0m\u001b[0;34m\u001b[0m\u001b[0;34m\u001b[0m\u001b[0;34m\u001b[0m\u001b[0m\n\u001b[1;32m    412\u001b[0m             \u001b[0;32mif\u001b[0m \u001b[0mfollowlinks\u001b[0m \u001b[0;32mor\u001b[0m \u001b[0;32mnot\u001b[0m \u001b[0mislink\u001b[0m\u001b[0;34m(\u001b[0m\u001b[0mnew_path\u001b[0m\u001b[0;34m)\u001b[0m\u001b[0;34m:\u001b[0m\u001b[0;34m\u001b[0m\u001b[0;34m\u001b[0m\u001b[0m\n\u001b[0;32m--> 413\u001b[0;31m                 \u001b[0;32myield\u001b[0m \u001b[0;32mfrom\u001b[0m \u001b[0mwalk\u001b[0m\u001b[0;34m(\u001b[0m\u001b[0mnew_path\u001b[0m\u001b[0;34m,\u001b[0m \u001b[0mtopdown\u001b[0m\u001b[0;34m,\u001b[0m \u001b[0monerror\u001b[0m\u001b[0;34m,\u001b[0m \u001b[0mfollowlinks\u001b[0m\u001b[0;34m)\u001b[0m\u001b[0;34m\u001b[0m\u001b[0;34m\u001b[0m\u001b[0m\n\u001b[0m\u001b[1;32m    414\u001b[0m     \u001b[0;32melse\u001b[0m\u001b[0;34m:\u001b[0m\u001b[0;34m\u001b[0m\u001b[0;34m\u001b[0m\u001b[0m\n\u001b[1;32m    415\u001b[0m         \u001b[0;31m# Recurse into sub-directories\u001b[0m\u001b[0;34m\u001b[0m\u001b[0;34m\u001b[0m\u001b[0;34m\u001b[0m\u001b[0m\n",
            "\u001b[0;32m/usr/lib/python3.7/os.py\u001b[0m in \u001b[0;36mwalk\u001b[0;34m(top, topdown, onerror, followlinks)\u001b[0m\n\u001b[1;32m    411\u001b[0m             \u001b[0;31m# above.\u001b[0m\u001b[0;34m\u001b[0m\u001b[0;34m\u001b[0m\u001b[0;34m\u001b[0m\u001b[0m\n\u001b[1;32m    412\u001b[0m             \u001b[0;32mif\u001b[0m \u001b[0mfollowlinks\u001b[0m \u001b[0;32mor\u001b[0m \u001b[0;32mnot\u001b[0m \u001b[0mislink\u001b[0m\u001b[0;34m(\u001b[0m\u001b[0mnew_path\u001b[0m\u001b[0;34m)\u001b[0m\u001b[0;34m:\u001b[0m\u001b[0;34m\u001b[0m\u001b[0;34m\u001b[0m\u001b[0m\n\u001b[0;32m--> 413\u001b[0;31m                 \u001b[0;32myield\u001b[0m \u001b[0;32mfrom\u001b[0m \u001b[0mwalk\u001b[0m\u001b[0;34m(\u001b[0m\u001b[0mnew_path\u001b[0m\u001b[0;34m,\u001b[0m \u001b[0mtopdown\u001b[0m\u001b[0;34m,\u001b[0m \u001b[0monerror\u001b[0m\u001b[0;34m,\u001b[0m \u001b[0mfollowlinks\u001b[0m\u001b[0;34m)\u001b[0m\u001b[0;34m\u001b[0m\u001b[0;34m\u001b[0m\u001b[0m\n\u001b[0m\u001b[1;32m    414\u001b[0m     \u001b[0;32melse\u001b[0m\u001b[0;34m:\u001b[0m\u001b[0;34m\u001b[0m\u001b[0;34m\u001b[0m\u001b[0m\n\u001b[1;32m    415\u001b[0m         \u001b[0;31m# Recurse into sub-directories\u001b[0m\u001b[0;34m\u001b[0m\u001b[0;34m\u001b[0m\u001b[0;34m\u001b[0m\u001b[0m\n",
            "\u001b[0;32m/usr/lib/python3.7/os.py\u001b[0m in \u001b[0;36mwalk\u001b[0;34m(top, topdown, onerror, followlinks)\u001b[0m\n\u001b[1;32m    411\u001b[0m             \u001b[0;31m# above.\u001b[0m\u001b[0;34m\u001b[0m\u001b[0;34m\u001b[0m\u001b[0;34m\u001b[0m\u001b[0m\n\u001b[1;32m    412\u001b[0m             \u001b[0;32mif\u001b[0m \u001b[0mfollowlinks\u001b[0m \u001b[0;32mor\u001b[0m \u001b[0;32mnot\u001b[0m \u001b[0mislink\u001b[0m\u001b[0;34m(\u001b[0m\u001b[0mnew_path\u001b[0m\u001b[0;34m)\u001b[0m\u001b[0;34m:\u001b[0m\u001b[0;34m\u001b[0m\u001b[0;34m\u001b[0m\u001b[0m\n\u001b[0;32m--> 413\u001b[0;31m                 \u001b[0;32myield\u001b[0m \u001b[0;32mfrom\u001b[0m \u001b[0mwalk\u001b[0m\u001b[0;34m(\u001b[0m\u001b[0mnew_path\u001b[0m\u001b[0;34m,\u001b[0m \u001b[0mtopdown\u001b[0m\u001b[0;34m,\u001b[0m \u001b[0monerror\u001b[0m\u001b[0;34m,\u001b[0m \u001b[0mfollowlinks\u001b[0m\u001b[0;34m)\u001b[0m\u001b[0;34m\u001b[0m\u001b[0;34m\u001b[0m\u001b[0m\n\u001b[0m\u001b[1;32m    414\u001b[0m     \u001b[0;32melse\u001b[0m\u001b[0;34m:\u001b[0m\u001b[0;34m\u001b[0m\u001b[0;34m\u001b[0m\u001b[0m\n\u001b[1;32m    415\u001b[0m         \u001b[0;31m# Recurse into sub-directories\u001b[0m\u001b[0;34m\u001b[0m\u001b[0;34m\u001b[0m\u001b[0;34m\u001b[0m\u001b[0m\n",
            "\u001b[0;32m/usr/lib/python3.7/os.py\u001b[0m in \u001b[0;36mwalk\u001b[0;34m(top, topdown, onerror, followlinks)\u001b[0m\n\u001b[1;32m    410\u001b[0m             \u001b[0;31m# the caller can replace the directory entry during the \"yield\"\u001b[0m\u001b[0;34m\u001b[0m\u001b[0;34m\u001b[0m\u001b[0;34m\u001b[0m\u001b[0m\n\u001b[1;32m    411\u001b[0m             \u001b[0;31m# above.\u001b[0m\u001b[0;34m\u001b[0m\u001b[0;34m\u001b[0m\u001b[0;34m\u001b[0m\u001b[0m\n\u001b[0;32m--> 412\u001b[0;31m             \u001b[0;32mif\u001b[0m \u001b[0mfollowlinks\u001b[0m \u001b[0;32mor\u001b[0m \u001b[0;32mnot\u001b[0m \u001b[0mislink\u001b[0m\u001b[0;34m(\u001b[0m\u001b[0mnew_path\u001b[0m\u001b[0;34m)\u001b[0m\u001b[0;34m:\u001b[0m\u001b[0;34m\u001b[0m\u001b[0;34m\u001b[0m\u001b[0m\n\u001b[0m\u001b[1;32m    413\u001b[0m                 \u001b[0;32myield\u001b[0m \u001b[0;32mfrom\u001b[0m \u001b[0mwalk\u001b[0m\u001b[0;34m(\u001b[0m\u001b[0mnew_path\u001b[0m\u001b[0;34m,\u001b[0m \u001b[0mtopdown\u001b[0m\u001b[0;34m,\u001b[0m \u001b[0monerror\u001b[0m\u001b[0;34m,\u001b[0m \u001b[0mfollowlinks\u001b[0m\u001b[0;34m)\u001b[0m\u001b[0;34m\u001b[0m\u001b[0;34m\u001b[0m\u001b[0m\n\u001b[1;32m    414\u001b[0m     \u001b[0;32melse\u001b[0m\u001b[0;34m:\u001b[0m\u001b[0;34m\u001b[0m\u001b[0;34m\u001b[0m\u001b[0m\n",
            "\u001b[0;32m/usr/lib/python3.7/posixpath.py\u001b[0m in \u001b[0;36mislink\u001b[0;34m(path)\u001b[0m\n\u001b[1;32m    169\u001b[0m     \u001b[0;34m\"\"\"Test whether a path is a symbolic link\"\"\"\u001b[0m\u001b[0;34m\u001b[0m\u001b[0;34m\u001b[0m\u001b[0m\n\u001b[1;32m    170\u001b[0m     \u001b[0;32mtry\u001b[0m\u001b[0;34m:\u001b[0m\u001b[0;34m\u001b[0m\u001b[0;34m\u001b[0m\u001b[0m\n\u001b[0;32m--> 171\u001b[0;31m         \u001b[0mst\u001b[0m \u001b[0;34m=\u001b[0m \u001b[0mos\u001b[0m\u001b[0;34m.\u001b[0m\u001b[0mlstat\u001b[0m\u001b[0;34m(\u001b[0m\u001b[0mpath\u001b[0m\u001b[0;34m)\u001b[0m\u001b[0;34m\u001b[0m\u001b[0;34m\u001b[0m\u001b[0m\n\u001b[0m\u001b[1;32m    172\u001b[0m     \u001b[0;32mexcept\u001b[0m \u001b[0;34m(\u001b[0m\u001b[0mOSError\u001b[0m\u001b[0;34m,\u001b[0m \u001b[0mAttributeError\u001b[0m\u001b[0;34m)\u001b[0m\u001b[0;34m:\u001b[0m\u001b[0;34m\u001b[0m\u001b[0;34m\u001b[0m\u001b[0m\n\u001b[1;32m    173\u001b[0m         \u001b[0;32mreturn\u001b[0m \u001b[0;32mFalse\u001b[0m\u001b[0;34m\u001b[0m\u001b[0;34m\u001b[0m\u001b[0m\n",
            "\u001b[0;31mKeyboardInterrupt\u001b[0m: "
          ]
        }
      ]
    },
    {
      "cell_type": "code",
      "metadata": {
        "colab": {
          "base_uri": "https://localhost:8080/"
        },
        "id": "qEqsKwm_G95W",
        "outputId": "815cf654-851d-458f-d2d8-687753e6b2f8"
      },
      "source": [
        "\"\"\"import urllib\n",
        "import re\n",
        "\n",
        "print(\"we will try to open this url, in order to get IP Address\")\n",
        "\n",
        "url = \"http://checkip.dyndns.org\"\n",
        "\n",
        "print(url)\n",
        "\n",
        "request = urllib.urlopen(url).read()\n",
        "\n",
        "theIP = re.findall(r\"d{1,3}.d{1,3}.d{1,3}.d{1,3}\", request)\n",
        "\n",
        "print(\"your IP Address is: \",  theIP)\"\"\"\n",
        "#!/usr/bin/env python\n",
        "# -*- coding: utf-8 -*-\n",
        "\n",
        "import re\n",
        "import requests\n",
        "\n",
        "url = \"http://checkip.dyndns.org\"\n",
        "print(url)\n",
        "request = requests.get(url)\n",
        "print(request)\n",
        "clean = request.text.split(': ', 1)[1]\n",
        "print(clean)\n",
        "your_ip = clean.split('</body></html>', 1)[0]\n",
        "print(your_ip)"
      ],
      "execution_count": 10,
      "outputs": [
        {
          "output_type": "stream",
          "name": "stdout",
          "text": [
            "http://checkip.dyndns.org\n",
            "<Response [200]>\n",
            "34.74.241.18\n"
          ]
        }
      ]
    },
    {
      "cell_type": "code",
      "metadata": {
        "colab": {
          "base_uri": "https://localhost:8080/"
        },
        "id": "3KWGjjUBMnPz",
        "outputId": "a8609d90-0119-4c3c-f92a-c199006cb2b2"
      },
      "source": [
        "import string\n",
        "from random import *\n",
        "characters = string.ascii_letters + string.punctuation  + string.digits\n",
        "print(string.ascii_letters)\n",
        "print(string.punctuation)\n",
        "print(string.digits)\n",
        "print(characters)\n",
        "password =  \"\".join(choice(characters) for x in range(randint(8, 16)))\n",
        "print(password)"
      ],
      "execution_count": 17,
      "outputs": [
        {
          "output_type": "stream",
          "name": "stdout",
          "text": [
            "abcdefghijklmnopqrstuvwxyzABCDEFGHIJKLMNOPQRSTUVWXYZ\n",
            "!\"#$%&'()*+,-./:;<=>?@[\\]^_`{|}~\n",
            "0123456789\n",
            "abcdefghijklmnopqrstuvwxyzABCDEFGHIJKLMNOPQRSTUVWXYZ!\"#$%&'()*+,-./:;<=>?@[\\]^_`{|}~0123456789\n",
            "Cy$,izs6j\n"
          ]
        }
      ]
    },
    {
      "cell_type": "code",
      "metadata": {
        "colab": {
          "base_uri": "https://localhost:8080/"
        },
        "id": "MciPlQSdOHCr",
        "outputId": "a995dcf9-6bde-4abb-9218-979fa85bc160"
      },
      "source": [
        "#get the username from a prompt\n",
        "username = input(\"Login: >> \")\n",
        "\n",
        "#list of allowed users\n",
        "user1 = \"Samyu\"\n",
        "user2 = \"Murali\"\n",
        "user3 = \"Sruthi\"\n",
        "user4 = \"Sakthi\"\n",
        "\n",
        "#control that the user belongs to the list of allowed users\n",
        "if username == user1:\n",
        "    print(\"Access granted\", user1, \"!\")\n",
        "elif username == user2:\n",
        "    print(\"Welcome to the system\", user2,\"!\")\n",
        "elif username == user3:\n",
        "    print(\"Welcome to the system\", user3,\"!\")\n",
        "elif username == user4:\n",
        "    print(\"Welcome to the system\", user4,\"!\")\n",
        "else:\n",
        "    print(\"Access denied\")"
      ],
      "execution_count": 29,
      "outputs": [
        {
          "output_type": "stream",
          "name": "stdout",
          "text": [
            "Login: >> nhyt\n",
            "Access denied\n"
          ]
        }
      ]
    },
    {
      "cell_type": "code",
      "metadata": {
        "colab": {
          "base_uri": "https://localhost:8080/"
        },
        "id": "lt8FI1VPQ11K",
        "outputId": "8dea50f4-6412-487c-e0d6-0ce89e155473"
      },
      "source": [
        "#Trial get the username from a prompt\n",
        "username = input(\"Login: >> \")\n",
        "\n",
        "#list of allowed users\n",
        "allowed_users = ['Jack', 'Jill', 'Samyu', 'Murali']\n",
        "\n",
        "\"\"\"#control that the user belongs to the list of allowed users\n",
        "if username == user1:\n",
        "    print(\"Access granted\", user1, \"!\")\n",
        "elif username == user2:\n",
        "    print(\"Welcome to the system\", user2,\"!\")\n",
        "elif username == user3:\n",
        "    print(\"Welcome to the system\", user3,\"!\")\n",
        "elif username == user4:\n",
        "    print(\"Welcome to the system\", user4,\"!\")\n",
        "else:\n",
        "    print(\"Access denied\")\n",
        "    # Allowed users\n",
        "allowed_users = ['Jack', 'Jill']\"\"\"\n",
        "\n",
        "# Check\n",
        "for u in allowed_users:\n",
        "    if username == u:\n",
        "        print(\"Welcome!\")\n",
        "    else:\n",
        "        print(\" \")\n"
      ],
      "execution_count": 36,
      "outputs": [
        {
          "output_type": "stream",
          "name": "stdout",
          "text": [
            "Login: >> jnj\n",
            " \n",
            " \n",
            " \n",
            " \n"
          ]
        }
      ]
    },
    {
      "cell_type": "code",
      "metadata": {
        "colab": {
          "base_uri": "https://localhost:8080/"
        },
        "id": "lLTVkQtxSii7",
        "outputId": "bad00cf6-3e31-416f-f4bd-32987072a45a"
      },
      "source": [
        "# Python Program to Convert seconds\n",
        "# into hours, minutes and seconds\n",
        "  \n",
        "def convert(seconds):\n",
        "    seconds = seconds % (24 * 3600)\n",
        "    print(seconds)\n",
        "    hour = seconds // 3600\n",
        "    print(hour)\n",
        "    seconds %= 3600\n",
        "    print(seconds)\n",
        "    minutes = seconds // 60\n",
        "    print(minutes)\n",
        "    seconds %= 60\n",
        "      \n",
        "    return \"%d:%02d:%02d\" % (hour, minutes, seconds)\n",
        "      \n",
        "# Driver program\n",
        "#n = 12345\n",
        "n = int(input(\"Enter number of seconds\"))\n",
        "print(convert(n))"
      ],
      "execution_count": 55,
      "outputs": [
        {
          "output_type": "stream",
          "name": "stdout",
          "text": [
            "Enter number of seconds3676\n",
            "3676\n",
            "1\n",
            "76\n",
            "1\n",
            "1:01:16\n"
          ]
        }
      ]
    },
    {
      "cell_type": "code",
      "metadata": {
        "colab": {
          "base_uri": "https://localhost:8080/"
        },
        "id": "ZjnMo6HFULJI",
        "outputId": "fdae70cd-f43d-451f-dbfc-1a2a9fe4eb44"
      },
      "source": [
        "'''This will be a Python script that functions as a grocery calculator. It will take in key-value pairs for items\n",
        "and their prices, and return the subtotal and total, and can print out the list for you for when you're ready to\n",
        "take it to the store!'''\n",
        "\n",
        "'''Algorithm:\n",
        "1. User enters key-value pairs that are added into a dict.\n",
        "2. Users tells script to return total, subtotal, and key-value pairs in a nicely formatted list.'''\n",
        "\n",
        "#Object = GroceryList\n",
        "#Methods = addToList, Total, Subtotal, returnList\n",
        "\n",
        "class GroceryList(dict):\n",
        "\n",
        "    def __init__(self):\n",
        "    \tself = {}\n",
        "\n",
        "    def addToList(self, item, price):\n",
        "            self.update({item:price})\n",
        "\n",
        "    def Total(self):\n",
        "\t\t    total = 0\n",
        "\t\t    for items in self:\n",
        "\t\t\t          total += (self[items])*.07 + (self[items])\n",
        "\t\t    return total\n",
        "\n",
        "    def Subtotal(self):\n",
        "\t\t    subtotal = 0\n",
        "\t\t    for items in self:\n",
        "\t\t\t          subtotal += self[items]\n",
        "\t\t    return subtotal\n",
        "\n",
        "    def returnList(self):\n",
        "\t\t    return self\n",
        "\n",
        "'''Test list should return:\n",
        "Total = 10.70\n",
        "Subtotal = 10\n",
        "returnList = {\"milk\":4, \"eggs\":3, \"kombucha\":3}\n",
        "'''\n",
        "List1 = GroceryList()\n",
        "\n",
        "List1.addToList(\"milk\",4)\n",
        "List1.addToList(\"eggs\", 3)\n",
        "List1.addToList(\"kombucha\", 3)\n",
        "\n",
        "\n",
        "print(List1.Total())\n",
        "print(List1.Subtotal())\n",
        "print(List1.returnList())\n",
        "\n",
        "#*****************************************************\n",
        "print\n",
        "#*****************************************************\n",
        "\n",
        "\n",
        "List2 = GroceryList()\n",
        "\n",
        "List2.addToList('cheese', 7.49)\n",
        "List2.addToList('wine', 25.36)\n",
        "List2.addToList('steak', 17.64)\n",
        "\n",
        "print(List2.Total())\n",
        "print(List2.Subtotal())\n",
        "print(List2.returnList())"
      ],
      "execution_count": 51,
      "outputs": [
        {
          "output_type": "stream",
          "name": "stdout",
          "text": [
            "10.7\n",
            "10\n",
            "{'milk': 4, 'eggs': 3, 'kombucha': 3}\n",
            "54.024300000000004\n",
            "50.49\n",
            "{'cheese': 7.49, 'wine': 25.36, 'steak': 17.64}\n"
          ]
        }
      ]
    },
    {
      "cell_type": "code",
      "metadata": {
        "colab": {
          "base_uri": "https://localhost:8080/"
        },
        "id": "8z7MiAjuw-Hv",
        "outputId": "56aee5df-da86-4984-a806-c3fc169f2595"
      },
      "source": [
        "import random\n",
        "min = 1\n",
        "max = 10\n",
        "roll_again = \"yes\"\n",
        "\n",
        "while roll_again == \"yes\" or roll_again == \"y\":\n",
        "    print(\"Rolling the dices...\")\n",
        "    print(\"The values are....\")\n",
        "    print(random.randint(min, max))\n",
        "    print(random.randint(min, max))\n",
        "    roll_again = input(\"Roll the dices again?\")\n",
        "\n",
        "if roll_again == \"no\" or roll_again == \"n\":\n",
        "    print(\"Bye!\")"
      ],
      "execution_count": 72,
      "outputs": [
        {
          "output_type": "stream",
          "name": "stdout",
          "text": [
            "Rolling the dices...\n",
            "The values are....\n",
            "5\n",
            "7\n",
            "Roll the dices again?y\n",
            "Rolling the dices...\n",
            "The values are....\n",
            "8\n",
            "4\n",
            "Roll the dices again?y\n",
            "Rolling the dices...\n",
            "The values are....\n",
            "8\n",
            "3\n",
            "Roll the dices again?n\n",
            "Bye!\n"
          ]
        }
      ]
    },
    {
      "cell_type": "code",
      "metadata": {
        "colab": {
          "base_uri": "https://localhost:8080/"
        },
        "id": "NcDVADxD7dbR",
        "outputId": "e83e109d-7fdb-4f84-922c-bc8de2b8d93f"
      },
      "source": [
        "import re\n",
        "vowels = 'aeiouAEIOU'\n",
        "given_str = input(\"Enter a string:\")\n",
        "final_str = given_str\n",
        "\n",
        "for c in given_str:\n",
        "  if c in vowels:\n",
        "    final_str = final_str.replace(c,\"\")\n",
        "print(final_str)"
      ],
      "execution_count": 76,
      "outputs": [
        {
          "output_type": "stream",
          "name": "stdout",
          "text": [
            "Enter a string:fromitg\n",
            "frmtg\n"
          ]
        }
      ]
    },
    {
      "cell_type": "code",
      "metadata": {
        "colab": {
          "base_uri": "https://localhost:8080/"
        },
        "id": "N2ea06Hj9Z-C",
        "outputId": "9883c63a-84e1-441a-b7aa-0402ade3d467"
      },
      "source": [
        "import random\n",
        "n = random.randint(1, 99)\n",
        "guess = int(input(\"Enter an integer from 1 to 99: \"))\n",
        "while n != \"guess\":\n",
        "    print\n",
        "    if guess < n:\n",
        "        print(\"guess is low\")\n",
        "        guess = int(input(\"Enter an integer from 1 to 99: \"))\n",
        "    elif guess > n:\n",
        "        print(\"guess is high\")\n",
        "        guess = int(input(\"Enter an integer from 1 to 99: \"))\n",
        "    else:\n",
        "        print(\"you guessed it!\")\n",
        "        break\n",
        "    print"
      ],
      "execution_count": 79,
      "outputs": [
        {
          "output_type": "stream",
          "name": "stdout",
          "text": [
            "Enter an integer from 1 to 99: 50\n",
            "guess is high\n",
            "Enter an integer from 1 to 99: 25\n",
            "guess is low\n",
            "Enter an integer from 1 to 99: 37\n",
            "guess is high\n",
            "Enter an integer from 1 to 99: 30\n",
            "guess is low\n",
            "Enter an integer from 1 to 99: 35\n",
            "guess is high\n",
            "Enter an integer from 1 to 99: 33\n",
            "guess is high\n",
            "Enter an integer from 1 to 99: 31\n",
            "guess is low\n",
            "Enter an integer from 1 to 99: 32\n",
            "you guessed it!\n"
          ]
        }
      ]
    },
    {
      "cell_type": "code",
      "metadata": {
        "colab": {
          "base_uri": "https://localhost:8080/",
          "height": 1000
        },
        "id": "4PCeZte8_EIH",
        "outputId": "f98af509-3614-42c6-a607-b7f85d5a96f7"
      },
      "source": [
        "x = range(1, 101)\n",
        "\n",
        "for y in x:\n",
        "    if y % 3 == 0 and y % 5 == 0:\n",
        "        print (\"Fizz Buzz\")\n",
        "    elif y % 5 == 0:\n",
        "        print (\"Buzz\")\n",
        "    elif y % 3 == 0:\n",
        "        print (\"Fizz\")\n",
        "    else:\n",
        "        print(y)\n",
        "\"\"\"def fizzbuzz(n):\n",
        "\n",
        "    if n % 3 == 0 and n % 5 == 0:\n",
        "        return 'FizzBuzz'\n",
        "    elif n % 3 == 0:\n",
        "        return 'Fizz'\n",
        "    elif n % 5 == 0:\n",
        "        return 'Buzz'\n",
        "    else:\n",
        "        return str(n)\n",
        "\n",
        "print(\"\\n\".join(fizzbuzz(n) for n in range(1, 31)))\"\"\"\n",
        "\"\"\"def fizzbuzz(n):\n",
        "\n",
        "    print(\"\\n\".join([\"Fizz\"*(i%3==0)+\"Buzz\"*(i%5==0) or str(i) for i in range(1,100)]))\"\"\"\n",
        "\n",
        "\n",
        "\"\"\"for x in list(range(0,100)):\n",
        "    output = \"\"\n",
        "    if(x % 3 == 0):\n",
        "        output += 'Fizz'\n",
        "    if(x % 5 == 0):\n",
        "        output += 'Buzz'\n",
        "    if(output == \"\"):\n",
        "        output += str(x)\n",
        "\n",
        "print(output)\"\"\""
      ],
      "execution_count": 90,
      "outputs": [
        {
          "output_type": "stream",
          "name": "stdout",
          "text": [
            "1\n",
            "2\n",
            "Fizz\n",
            "4\n",
            "Buzz\n",
            "Fizz\n",
            "7\n",
            "8\n",
            "Fizz\n",
            "Buzz\n",
            "11\n",
            "Fizz\n",
            "13\n",
            "14\n",
            "Fizz Buzz\n",
            "16\n",
            "17\n",
            "Fizz\n",
            "19\n",
            "Buzz\n",
            "Fizz\n",
            "22\n",
            "23\n",
            "Fizz\n",
            "Buzz\n",
            "26\n",
            "Fizz\n",
            "28\n",
            "29\n",
            "Fizz Buzz\n",
            "31\n",
            "32\n",
            "Fizz\n",
            "34\n",
            "Buzz\n",
            "Fizz\n",
            "37\n",
            "38\n",
            "Fizz\n",
            "Buzz\n",
            "41\n",
            "Fizz\n",
            "43\n",
            "44\n",
            "Fizz Buzz\n",
            "46\n",
            "47\n",
            "Fizz\n",
            "49\n",
            "Buzz\n",
            "Fizz\n",
            "52\n",
            "53\n",
            "Fizz\n",
            "Buzz\n",
            "56\n",
            "Fizz\n",
            "58\n",
            "59\n",
            "Fizz Buzz\n",
            "61\n",
            "62\n",
            "Fizz\n",
            "64\n",
            "Buzz\n",
            "Fizz\n",
            "67\n",
            "68\n",
            "Fizz\n",
            "Buzz\n",
            "71\n",
            "Fizz\n",
            "73\n",
            "74\n",
            "Fizz Buzz\n",
            "76\n",
            "77\n",
            "Fizz\n",
            "79\n",
            "Buzz\n",
            "Fizz\n",
            "82\n",
            "83\n",
            "Fizz\n",
            "Buzz\n",
            "86\n",
            "Fizz\n",
            "88\n",
            "89\n",
            "Fizz Buzz\n",
            "91\n",
            "92\n",
            "Fizz\n",
            "94\n",
            "Buzz\n",
            "Fizz\n",
            "97\n",
            "98\n",
            "Fizz\n",
            "Buzz\n"
          ]
        },
        {
          "output_type": "execute_result",
          "data": {
            "application/vnd.google.colaboratory.intrinsic+json": {
              "type": "string"
            },
            "text/plain": [
              "'for x in list(range(0,100)):\\n    output = \"\"\\n    if(x % 3 == 0):\\n        output += \\'Fizz\\'\\n    if(x % 5 == 0):\\n        output += \\'Buzz\\'\\n    if(output == \"\"):\\n        output += str(x)\\n\\nprint(output)'"
            ]
          },
          "metadata": {},
          "execution_count": 90
        }
      ]
    },
    {
      "cell_type": "code",
      "metadata": {
        "colab": {
          "base_uri": "https://localhost:8080/",
          "height": 231
        },
        "id": "9ujAoaWiEU3O",
        "outputId": "6e4971ad-f9ec-4366-c910-45d0c727c862"
      },
      "source": [
        "\"\"\"This example will get all the links from any websites HTML code. \n",
        "To find all the links, we will in this example use the urllib2 module together\n",
        "with the re.module\"\"\"\n",
        "\n",
        "import urllib3\n",
        "import re\n",
        "\n",
        "#connect to a URL\n",
        "website = urllib3.urlopen(url)\n",
        "\n",
        "#read html code\n",
        "html = website.read()\n",
        "\n",
        "#use re.findall to get all the links\n",
        "links = re.findall('\"((http|ftp)s?://.*?)\"', html)\n",
        "\n",
        "print(links)"
      ],
      "execution_count": 94,
      "outputs": [
        {
          "output_type": "error",
          "ename": "AttributeError",
          "evalue": "ignored",
          "traceback": [
            "\u001b[0;31m---------------------------------------------------------------------------\u001b[0m",
            "\u001b[0;31mAttributeError\u001b[0m                            Traceback (most recent call last)",
            "\u001b[0;32m<ipython-input-94-55cc6cae40a3>\u001b[0m in \u001b[0;36m<module>\u001b[0;34m()\u001b[0m\n\u001b[1;32m      7\u001b[0m \u001b[0;34m\u001b[0m\u001b[0m\n\u001b[1;32m      8\u001b[0m \u001b[0;31m#connect to a URL\u001b[0m\u001b[0;34m\u001b[0m\u001b[0;34m\u001b[0m\u001b[0;34m\u001b[0m\u001b[0m\n\u001b[0;32m----> 9\u001b[0;31m \u001b[0mwebsite\u001b[0m \u001b[0;34m=\u001b[0m \u001b[0murllib3\u001b[0m\u001b[0;34m.\u001b[0m\u001b[0murlopen\u001b[0m\u001b[0;34m(\u001b[0m\u001b[0murl\u001b[0m\u001b[0;34m)\u001b[0m\u001b[0;34m\u001b[0m\u001b[0;34m\u001b[0m\u001b[0m\n\u001b[0m\u001b[1;32m     10\u001b[0m \u001b[0;34m\u001b[0m\u001b[0m\n\u001b[1;32m     11\u001b[0m \u001b[0;31m#read html code\u001b[0m\u001b[0;34m\u001b[0m\u001b[0;34m\u001b[0m\u001b[0;34m\u001b[0m\u001b[0m\n",
            "\u001b[0;31mAttributeError\u001b[0m: module 'urllib3' has no attribute 'urlopen'"
          ]
        }
      ]
    },
    {
      "cell_type": "code",
      "metadata": {
        "colab": {
          "base_uri": "https://localhost:8080/"
        },
        "id": "qnY-IkpZFzde",
        "outputId": "a0cb19da-f25f-4b76-e7f3-153c13789f59"
      },
      "source": [
        "#Finding mean of 3 inputs\n",
        "\n",
        "A=int(input(\"Enter A:\"))\n",
        "B=int(input(\"Enter B:\"))\n",
        "C=int(input(\"Enter C:\"))\n",
        "print(\"Mean:\",(A+B+C)/3)"
      ],
      "execution_count": 106,
      "outputs": [
        {
          "output_type": "stream",
          "name": "stdout",
          "text": [
            "Enter A:2\n",
            "Enter B:4\n",
            "Enter C:6\n",
            "Mean: 4.0\n"
          ]
        }
      ]
    },
    {
      "cell_type": "code",
      "metadata": {
        "colab": {
          "base_uri": "https://localhost:8080/"
        },
        "id": "NOKwzuN5Hq0j",
        "outputId": "86a14b38-65ef-49f1-cd2e-2c0fab59c13c"
      },
      "source": [
        "import random\n",
        "HANGMAN_PICS = ['''+---+\n",
        "                       |\n",
        "                       |\n",
        "                       |\n",
        "                      ===''',\n",
        "                \n",
        "                 '''\n",
        "     +---+\n",
        "     O   |\n",
        "         |\n",
        "         |\n",
        "        ===''', '''\n",
        "    +---+\n",
        "    O   |\n",
        "    |   |\n",
        "        |\n",
        "       ===''', '''\n",
        "    +---+\n",
        "    O   |\n",
        "   /|   |\n",
        "        |\n",
        "       ===''', '''\n",
        "    +---+\n",
        "    O   |\n",
        "   /|\\  |\n",
        "        |\n",
        "       ===''', '''\n",
        "    +---+\n",
        "    O   |\n",
        "   /|\\  |\n",
        "   /    |\n",
        "       ===''', '''\n",
        "    +---+\n",
        "    O   |\n",
        "   /|\\  |\n",
        "   / \\  |\n",
        "       ===''']\n",
        "words = 'ant baboon badger bat bear beaver camel cat clam cobra cougar coyote crow deer dog donkey duck eagle ferret fox frog goat goose hawk lion lizard llama mole monkey moose mouse mule newt otter owl panda parrot pigeon python rabbit ram rat raven rhino salmon seal shark sheep skunk sloth snake spider stork swan tiger toad trout turkey turtle weasel whale wolf wombat zebra'.split()\n",
        " \n",
        "def getRandomWord(wordList):\n",
        "      # This function returns a random string from the passed list of strings.\n",
        "      wordIndex = random.randint(0, len(wordList) - 1)\n",
        "      return wordList[wordIndex]\n",
        " \n",
        "def displayBoard(missedLetters, correctLetters, secretWord):\n",
        "      print(HANGMAN_PICS[len(missedLetters)])\n",
        "      print()\n",
        "      print('Missed letters:', end=' ')\n",
        "      for letter in missedLetters:\n",
        "          print(letter, end=' ')\n",
        "      print()\n",
        " \n",
        "      blanks = '_' * len(secretWord)\n",
        " \n",
        "      for i in range(len(secretWord)): # Replace blanks with correctly guessed letters.\n",
        "          if secretWord[i] in correctLetters:\n",
        "              blanks = blanks[:i] + secretWord[i] + blanks[i+1:]\n",
        " \n",
        "      for letter in blanks: # Show the secret word with spaces in between each letter.\n",
        "          print(letter, end=' ')\n",
        "      print()\n",
        " \n",
        "def getGuess(alreadyGuessed):\n",
        "      # Returns the letter the player entered. This function makes sure the player entered a single letter and not something else.\n",
        "      while True:\n",
        "          print('Guess a letter.')\n",
        "          guess = input()\n",
        "          guess = guess.lower()\n",
        "          if len(guess) != 1:\n",
        "              print('Please enter a single letter.')\n",
        "          elif guess in alreadyGuessed:\n",
        "              print('You have already guessed that letter. Choose again.')\n",
        "          elif guess not in 'abcdefghijklmnopqrstuvwxyz':\n",
        "              print('Please enter a LETTER.')\n",
        "          else:\n",
        "              return guess\n",
        " \n",
        "def playAgain():\n",
        "      # This function returns True if the player wants to play again; otherwise, it returns False.\n",
        "      print('Do you want to play again? (yes or no)')\n",
        "      return input().lower().startswith('y')\n",
        " \n",
        "print('H A N G M A N')\n",
        "missedLetters = ''\n",
        "correctLetters = ''\n",
        "secretWord = getRandomWord(words)\n",
        "gameIsDone = False\n",
        " \n",
        "while True:\n",
        "  displayBoard(missedLetters, correctLetters, secretWord)\n",
        " \n",
        "      # Let the player enter a letter.\n",
        "  guess = getGuess(missedLetters + correctLetters)\n",
        " \n",
        "  if guess in secretWord:\n",
        "      correctLetters = correctLetters + guess\n",
        " \n",
        "      # Check if the player has won.\n",
        "      foundAllLetters = True\n",
        "      for i in range(len(secretWord)):\n",
        "            if secretWord[i] not in correctLetters:\n",
        "                 foundAllLetters = False\n",
        "            break \n",
        "            if foundAllLetters:\n",
        "              print('Yes! The secret word is \"' + secretWord +'\"! You have won!')\n",
        "              gameIsDone = True\n",
        "            else:\n",
        "              missedLetters = missedLetters + guess\n",
        "\n",
        "         # Check if player has guessed too many times and lost.\n",
        "            if len(missedLetters) == len(HANGMAN_PICS) - 1:\n",
        "             displayBoard(missedLetters, correctLetters, secretWord)\n",
        "             print('You have run out of guesses!\\nAfter ' +\n",
        "                   str(len(missedLetters)) + ' missed guesses and ' +\n",
        "                   str(len(correctLetters)) + ' correct guesses, the word was \"' + secretWord + '\"')\n",
        "             gameIsDone = True\n",
        "\n",
        "     # Ask the player if they want to play again (but only if the game is done).\n",
        "            if gameIsDone:\n",
        "              if playAgain():\n",
        "                missedLetters = ''\n",
        "                correctLetters = ''\n",
        "                gameIsDone = False\n",
        "                secretWord = getRandomWord(words)\n",
        "              else:\n",
        "                break"
      ],
      "execution_count": null,
      "outputs": [
        {
          "metadata": {
            "tags": null
          },
          "name": "stdout",
          "output_type": "stream",
          "text": [
            "H A N G M A N\n",
            "\n",
            "     +---+\n",
            "         |\n",
            "         |\n",
            "         |\n",
            "        ===\n",
            "\n",
            "Missed letters: \n",
            "_ _ _ _ \n",
            "Guess a letter.\n",
            "\n",
            "     +---+\n",
            "         |\n",
            "         |\n",
            "         |\n",
            "        ===\n",
            "\n",
            "Missed letters: \n",
            "_ _ _ _ \n",
            "Guess a letter.\n",
            "\n",
            "     +---+\n",
            "         |\n",
            "         |\n",
            "         |\n",
            "        ===\n",
            "\n",
            "Missed letters: \n",
            "_ _ _ _ \n",
            "Guess a letter.\n",
            "\n",
            "     +---+\n",
            "         |\n",
            "         |\n",
            "         |\n",
            "        ===\n",
            "\n",
            "Missed letters: \n",
            "_ _ _ _ \n",
            "Guess a letter.\n",
            "\n",
            "     +---+\n",
            "         |\n",
            "         |\n",
            "         |\n",
            "        ===\n",
            "\n",
            "Missed letters: \n",
            "_ _ _ _ \n",
            "Guess a letter.\n",
            "\n",
            "     +---+\n",
            "         |\n",
            "         |\n",
            "         |\n",
            "        ===\n",
            "\n",
            "Missed letters: \n",
            "_ _ _ _ \n",
            "Guess a letter.\n",
            "\n",
            "     +---+\n",
            "         |\n",
            "         |\n",
            "         |\n",
            "        ===\n",
            "\n",
            "Missed letters: \n",
            "_ _ l _ \n",
            "Guess a letter.\n",
            "\n",
            "     +---+\n",
            "         |\n",
            "         |\n",
            "         |\n",
            "        ===\n",
            "\n",
            "Missed letters: \n",
            "_ _ l _ \n",
            "Guess a letter.\n",
            "\n",
            "     +---+\n",
            "         |\n",
            "         |\n",
            "         |\n",
            "        ===\n",
            "\n",
            "Missed letters: \n",
            "_ _ l _ \n",
            "Guess a letter.\n",
            "\n",
            "     +---+\n",
            "         |\n",
            "         |\n",
            "         |\n",
            "        ===\n",
            "\n",
            "Missed letters: \n",
            "_ _ l _ \n",
            "Guess a letter.\n",
            "\n",
            "     +---+\n",
            "         |\n",
            "         |\n",
            "         |\n",
            "        ===\n",
            "\n",
            "Missed letters: \n",
            "_ _ l _ \n",
            "Guess a letter.\n",
            "\n",
            "     +---+\n",
            "         |\n",
            "         |\n",
            "         |\n",
            "        ===\n",
            "\n",
            "Missed letters: \n",
            "_ _ l _ \n",
            "Guess a letter.\n",
            "\n",
            "     +---+\n",
            "         |\n",
            "         |\n",
            "         |\n",
            "        ===\n",
            "\n",
            "Missed letters: \n",
            "_ _ l _ \n",
            "Guess a letter.\n",
            "\n",
            "     +---+\n",
            "         |\n",
            "         |\n",
            "         |\n",
            "        ===\n",
            "\n",
            "Missed letters: \n",
            "_ _ l _ \n",
            "Guess a letter.\n",
            "\n",
            "     +---+\n",
            "         |\n",
            "         |\n",
            "         |\n",
            "        ===\n",
            "\n",
            "Missed letters: \n",
            "w _ l _ \n",
            "Guess a letter.\n",
            "\n",
            "     +---+\n",
            "         |\n",
            "         |\n",
            "         |\n",
            "        ===\n",
            "\n",
            "Missed letters: \n",
            "w _ l _ \n",
            "Guess a letter.\n",
            "\n",
            "     +---+\n",
            "         |\n",
            "         |\n",
            "         |\n",
            "        ===\n",
            "\n",
            "Missed letters: \n",
            "w o l _ \n",
            "Guess a letter.\n",
            "\n",
            "     +---+\n",
            "         |\n",
            "         |\n",
            "         |\n",
            "        ===\n",
            "\n",
            "Missed letters: \n",
            "w o l f \n",
            "Guess a letter.\n"
          ]
        }
      ]
    }
  ]
}